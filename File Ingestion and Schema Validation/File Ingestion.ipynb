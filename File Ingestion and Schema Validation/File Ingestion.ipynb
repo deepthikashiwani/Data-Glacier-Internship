{
 "cells": [
  {
   "cell_type": "markdown",
   "metadata": {},
   "source": [
    "DATASET LINK : https://www.kaggle.com/mkechinov/ecommerce-behavior-data-from-multi-category-store?fbclid=IwAR3Rji50q1WtaHD8By7X-_E6WO52Ksj7SQmulpV7-flbmhQKerdWR1M2cdc&select=2019-Oct.csv"
   ]
  },
  {
   "cell_type": "code",
   "execution_count": 1,
   "metadata": {},
   "outputs": [
    {
     "data": {
      "application/javascript": [
       "IPython.notebook.set_autosave_interval(10000)"
      ]
     },
     "metadata": {},
     "output_type": "display_data"
    },
    {
     "name": "stdout",
     "output_type": "stream",
     "text": [
      "Autosaving every 10 seconds\n"
     ]
    }
   ],
   "source": [
    "%autosave 10\n",
    "import time\n",
    "import os\n",
    "import pandas as pd"
   ]
  },
  {
   "cell_type": "code",
   "execution_count": 2,
   "metadata": {},
   "outputs": [
    {
     "data": {
      "text/plain": [
       "5668612855"
      ]
     },
     "execution_count": 2,
     "metadata": {},
     "output_type": "execute_result"
    }
   ],
   "source": [
    "#Size of the file in bytes\n",
    "os.path.getsize('2019-Oct.csv')"
   ]
  },
  {
   "cell_type": "code",
   "execution_count": 4,
   "metadata": {},
   "outputs": [
    {
     "name": "stdout",
     "output_type": "stream",
     "text": [
      "Reading csv with dask takes:  0.0352177619934082 sec\n"
     ]
    }
   ],
   "source": [
    "from dask import dataframe as dd\n",
    "start = time.time()\n",
    "dask_df = dd.read_csv(\"2019-Oct.csv\")\n",
    "end = time.time()\n",
    "print(\"Reading csv with dask takes: \",(end-start),\"sec\")"
   ]
  },
  {
   "cell_type": "code",
   "execution_count": 5,
   "metadata": {},
   "outputs": [],
   "source": [
    "#import using dask\n",
    "from dask import dataframe as dd\n",
    "df = dd.read_csv('2019-Oct.csv',delimiter=',')"
   ]
  },
  {
   "cell_type": "code",
   "execution_count": 9,
   "metadata": {},
   "outputs": [
    {
     "data": {
      "text/plain": [
       "42448764"
      ]
     },
     "execution_count": 9,
     "metadata": {},
     "output_type": "execute_result"
    }
   ],
   "source": [
    "#no of rows\n",
    "len(df.index)"
   ]
  },
  {
   "cell_type": "code",
   "execution_count": 10,
   "metadata": {},
   "outputs": [
    {
     "data": {
      "text/plain": [
       "9"
      ]
     },
     "execution_count": 10,
     "metadata": {},
     "output_type": "execute_result"
    }
   ],
   "source": [
    "#no of columns\n",
    "len(df.columns)"
   ]
  },
  {
   "cell_type": "code",
   "execution_count": 11,
   "metadata": {},
   "outputs": [],
   "source": [
    "# remove special character\n",
    "df.columns=df.columns.str.replace('[#,@,&]','')"
   ]
  },
  {
   "cell_type": "code",
   "execution_count": 12,
   "metadata": {},
   "outputs": [],
   "source": [
    "#To remove white space from columns\n",
    "df.columns = df.columns.str.replace(' ', '')"
   ]
  },
  {
   "cell_type": "code",
   "execution_count": 13,
   "metadata": {},
   "outputs": [
    {
     "data": {
      "text/plain": [
       "Index(['event_time', 'event_type', 'product_id', 'category_id',\n",
       "       'category_code', 'brand', 'price', 'user_id', 'user_session'],\n",
       "      dtype='object')"
      ]
     },
     "execution_count": 13,
     "metadata": {},
     "output_type": "execute_result"
    }
   ],
   "source": [
    "data=df.columns\n",
    "data"
   ]
  },
  {
   "cell_type": "code",
   "execution_count": 14,
   "metadata": {},
   "outputs": [
    {
     "name": "stdout",
     "output_type": "stream",
     "text": [
      "Writing testutility.py\n"
     ]
    }
   ],
   "source": [
    "%%writefile testutility.py\n",
    "import logging\n",
    "import os\n",
    "import subprocess\n",
    "import yaml\n",
    "import pandas as pd\n",
    "import datetime \n",
    "import gc\n",
    "import re\n",
    "\n",
    "\n",
    "################\n",
    "# File Reading #\n",
    "################\n",
    "\n",
    "def read_config_file(filepath):\n",
    "    with open(filepath, 'r') as stream:\n",
    "        try:\n",
    "            return yaml.safe_load(stream)\n",
    "        except yaml.YAMLError as exc:\n",
    "            logging.error(exc)\n",
    "\n",
    "\n",
    "def replacer(string, char):\n",
    "    pattern = char + '{2,}'\n",
    "    string = re.sub(pattern, char, string) \n",
    "    return string\n",
    "\n",
    "def col_header_val(df,table_config):\n",
    "   \n",
    "    \n",
    "    df.columns = df.columns.str.lower()\n",
    "    df.columns = df.columns.str.replace('[^\\w]','_',regex=True)\n",
    "    df.columns = list(map(lambda x: x.strip('_'), list(df.columns)))\n",
    "    df.columns = list(map(lambda x: replacer(x,'_'), list(df.columns)))\n",
    "    expected_col = list(map(lambda x: x.lower(),  table_config['columns']))\n",
    "    expected_col.sort()\n",
    "    df.columns =list(map(lambda x: x.lower(), list(df.columns)))\n",
    "    df = df.reindex(sorted(df.columns), axis=1)\n",
    "    if len(df.columns) == len(expected_col) and list(expected_col)  == list(df.columns):\n",
    "        print(\"column name and column length validation passed\")\n",
    "        return 1\n",
    "    else:\n",
    "        print(\"column name and column length validation failed\")\n",
    "        mismatched_columns_file = list(set(df.columns).difference(expected_col))\n",
    "        print(\"Following File columns are not in the YAML file\",mismatched_columns_file)\n",
    "        missing_YAML_file = list(set(expected_col).difference(df.columns))\n",
    "        print(\"Following YAML columns are not in the file uploaded\",missing_YAML_file)\n",
    "        logging.info(f'df columns: {df.columns}')\n",
    "        logging.info(f'expected columns: {expected_col}')\n",
    "        return 0"
   ]
  },
  {
   "cell_type": "code",
   "execution_count": 15,
   "metadata": {},
   "outputs": [
    {
     "name": "stdout",
     "output_type": "stream",
     "text": [
      "Writing file.yaml\n"
     ]
    }
   ],
   "source": [
    "%%writefile file.yaml\n",
    "file_type: csv\n",
    "dataset_name: 2019-Oct\n",
    "file_name: 2019-Oct\n",
    "table_name: 2019-Oct\n",
    "inbound_delimiter: \",\"\n",
    "outbound_delimiter: \",\"\n",
    "skip_leading_rows: 1\n",
    "columns:\n",
    "    - event_time \n",
    "    - event_type \n",
    "    - product_id \n",
    "    - category_id\n",
    "    - category_code \n",
    "    - brand \n",
    "    - price \n",
    "    - user_id\n",
    "    - user_session"
   ]
  },
  {
   "cell_type": "code",
   "execution_count": 16,
   "metadata": {},
   "outputs": [],
   "source": [
    "# Read config file\n",
    "import testutility as util\n",
    "config_data = util.read_config_file(\"file.yaml\")"
   ]
  },
  {
   "cell_type": "code",
   "execution_count": 17,
   "metadata": {},
   "outputs": [
    {
     "data": {
      "text/plain": [
       "{'file_type': 'csv',\n",
       " 'dataset_name': '2019-Oct',\n",
       " 'file_name': '2019-Oct',\n",
       " 'table_name': '2019-Oct',\n",
       " 'inbound_delimiter': ',',\n",
       " 'outbound_delimiter': ',',\n",
       " 'skip_leading_rows': 1,\n",
       " 'columns': ['event_time',\n",
       "  'event_type',\n",
       "  'product_id',\n",
       "  'category_id',\n",
       "  'category_code',\n",
       "  'brand',\n",
       "  'price',\n",
       "  'user_id',\n",
       "  'user_session']}"
      ]
     },
     "execution_count": 17,
     "metadata": {},
     "output_type": "execute_result"
    }
   ],
   "source": [
    "#inspecting data of config file\n",
    "config_data"
   ]
  },
  {
   "cell_type": "code",
   "execution_count": 18,
   "metadata": {},
   "outputs": [],
   "source": [
    "import pandas as pd"
   ]
  },
  {
   "cell_type": "code",
   "execution_count": 19,
   "metadata": {},
   "outputs": [],
   "source": [
    "file_type= config_data['file_type']\n",
    "source_file= \"./\" + config_data['file_name'] + f'.{file_type}'\n",
    "\n",
    "df= pd.read_csv(source_file, config_data['inbound_delimiter'])"
   ]
  },
  {
   "cell_type": "code",
   "execution_count": 20,
   "metadata": {},
   "outputs": [
    {
     "name": "stdout",
     "output_type": "stream",
     "text": [
      "column name and column length validation passed\n"
     ]
    },
    {
     "data": {
      "text/plain": [
       "1"
      ]
     },
     "execution_count": 20,
     "metadata": {},
     "output_type": "execute_result"
    }
   ],
   "source": [
    "util.col_header_val(df, config_data)"
   ]
  },
  {
   "cell_type": "code",
   "execution_count": 21,
   "metadata": {},
   "outputs": [
    {
     "name": "stdout",
     "output_type": "stream",
     "text": [
      "columns of files are: Index(['event_time', 'event_type', 'product_id', 'category_id',\n",
      "       'category_code', 'brand', 'price', 'user_id', 'user_session'],\n",
      "      dtype='object')\n",
      "columns of YAML are: ['event_time', 'event_type', 'product_id', 'category_id', 'category_code', 'brand', 'price', 'user_id', 'user_session']\n"
     ]
    }
   ],
   "source": [
    "print(\"columns of files are:\" ,df.columns)\n",
    "print(\"columns of YAML are:\" ,config_data['columns'])"
   ]
  },
  {
   "cell_type": "code",
   "execution_count": 22,
   "metadata": {},
   "outputs": [
    {
     "name": "stdout",
     "output_type": "stream",
     "text": [
      "column name and column length validation passed\n",
      "validation is passed\n"
     ]
    }
   ],
   "source": [
    "if util.col_header_val(df, config_data)==0:\n",
    "    print(\"validation is failed\")\n",
    "    \n",
    "else:\n",
    "    print(\"validation is passed\")"
   ]
  },
  {
   "cell_type": "code",
   "execution_count": 24,
   "metadata": {},
   "outputs": [
    {
     "data": {
      "text/plain": [
       "['C:/Users/Shiwani/Desktop/Week 6/2019-Oct.csv.gz\\\\00.part',\n",
       " 'C:/Users/Shiwani/Desktop/Week 6/2019-Oct.csv.gz\\\\01.part',\n",
       " 'C:/Users/Shiwani/Desktop/Week 6/2019-Oct.csv.gz\\\\02.part',\n",
       " 'C:/Users/Shiwani/Desktop/Week 6/2019-Oct.csv.gz\\\\03.part',\n",
       " 'C:/Users/Shiwani/Desktop/Week 6/2019-Oct.csv.gz\\\\04.part',\n",
       " 'C:/Users/Shiwani/Desktop/Week 6/2019-Oct.csv.gz\\\\05.part',\n",
       " 'C:/Users/Shiwani/Desktop/Week 6/2019-Oct.csv.gz\\\\06.part',\n",
       " 'C:/Users/Shiwani/Desktop/Week 6/2019-Oct.csv.gz\\\\07.part',\n",
       " 'C:/Users/Shiwani/Desktop/Week 6/2019-Oct.csv.gz\\\\08.part',\n",
       " 'C:/Users/Shiwani/Desktop/Week 6/2019-Oct.csv.gz\\\\09.part',\n",
       " 'C:/Users/Shiwani/Desktop/Week 6/2019-Oct.csv.gz\\\\10.part',\n",
       " 'C:/Users/Shiwani/Desktop/Week 6/2019-Oct.csv.gz\\\\11.part',\n",
       " 'C:/Users/Shiwani/Desktop/Week 6/2019-Oct.csv.gz\\\\12.part',\n",
       " 'C:/Users/Shiwani/Desktop/Week 6/2019-Oct.csv.gz\\\\13.part',\n",
       " 'C:/Users/Shiwani/Desktop/Week 6/2019-Oct.csv.gz\\\\14.part',\n",
       " 'C:/Users/Shiwani/Desktop/Week 6/2019-Oct.csv.gz\\\\15.part',\n",
       " 'C:/Users/Shiwani/Desktop/Week 6/2019-Oct.csv.gz\\\\16.part',\n",
       " 'C:/Users/Shiwani/Desktop/Week 6/2019-Oct.csv.gz\\\\17.part',\n",
       " 'C:/Users/Shiwani/Desktop/Week 6/2019-Oct.csv.gz\\\\18.part',\n",
       " 'C:/Users/Shiwani/Desktop/Week 6/2019-Oct.csv.gz\\\\19.part',\n",
       " 'C:/Users/Shiwani/Desktop/Week 6/2019-Oct.csv.gz\\\\20.part',\n",
       " 'C:/Users/Shiwani/Desktop/Week 6/2019-Oct.csv.gz\\\\21.part',\n",
       " 'C:/Users/Shiwani/Desktop/Week 6/2019-Oct.csv.gz\\\\22.part',\n",
       " 'C:/Users/Shiwani/Desktop/Week 6/2019-Oct.csv.gz\\\\23.part',\n",
       " 'C:/Users/Shiwani/Desktop/Week 6/2019-Oct.csv.gz\\\\24.part',\n",
       " 'C:/Users/Shiwani/Desktop/Week 6/2019-Oct.csv.gz\\\\25.part',\n",
       " 'C:/Users/Shiwani/Desktop/Week 6/2019-Oct.csv.gz\\\\26.part',\n",
       " 'C:/Users/Shiwani/Desktop/Week 6/2019-Oct.csv.gz\\\\27.part',\n",
       " 'C:/Users/Shiwani/Desktop/Week 6/2019-Oct.csv.gz\\\\28.part',\n",
       " 'C:/Users/Shiwani/Desktop/Week 6/2019-Oct.csv.gz\\\\29.part',\n",
       " 'C:/Users/Shiwani/Desktop/Week 6/2019-Oct.csv.gz\\\\30.part',\n",
       " 'C:/Users/Shiwani/Desktop/Week 6/2019-Oct.csv.gz\\\\31.part',\n",
       " 'C:/Users/Shiwani/Desktop/Week 6/2019-Oct.csv.gz\\\\32.part',\n",
       " 'C:/Users/Shiwani/Desktop/Week 6/2019-Oct.csv.gz\\\\33.part',\n",
       " 'C:/Users/Shiwani/Desktop/Week 6/2019-Oct.csv.gz\\\\34.part',\n",
       " 'C:/Users/Shiwani/Desktop/Week 6/2019-Oct.csv.gz\\\\35.part',\n",
       " 'C:/Users/Shiwani/Desktop/Week 6/2019-Oct.csv.gz\\\\36.part',\n",
       " 'C:/Users/Shiwani/Desktop/Week 6/2019-Oct.csv.gz\\\\37.part',\n",
       " 'C:/Users/Shiwani/Desktop/Week 6/2019-Oct.csv.gz\\\\38.part',\n",
       " 'C:/Users/Shiwani/Desktop/Week 6/2019-Oct.csv.gz\\\\39.part',\n",
       " 'C:/Users/Shiwani/Desktop/Week 6/2019-Oct.csv.gz\\\\40.part',\n",
       " 'C:/Users/Shiwani/Desktop/Week 6/2019-Oct.csv.gz\\\\41.part',\n",
       " 'C:/Users/Shiwani/Desktop/Week 6/2019-Oct.csv.gz\\\\42.part',\n",
       " 'C:/Users/Shiwani/Desktop/Week 6/2019-Oct.csv.gz\\\\43.part',\n",
       " 'C:/Users/Shiwani/Desktop/Week 6/2019-Oct.csv.gz\\\\44.part',\n",
       " 'C:/Users/Shiwani/Desktop/Week 6/2019-Oct.csv.gz\\\\45.part',\n",
       " 'C:/Users/Shiwani/Desktop/Week 6/2019-Oct.csv.gz\\\\46.part',\n",
       " 'C:/Users/Shiwani/Desktop/Week 6/2019-Oct.csv.gz\\\\47.part',\n",
       " 'C:/Users/Shiwani/Desktop/Week 6/2019-Oct.csv.gz\\\\48.part',\n",
       " 'C:/Users/Shiwani/Desktop/Week 6/2019-Oct.csv.gz\\\\49.part',\n",
       " 'C:/Users/Shiwani/Desktop/Week 6/2019-Oct.csv.gz\\\\50.part',\n",
       " 'C:/Users/Shiwani/Desktop/Week 6/2019-Oct.csv.gz\\\\51.part',\n",
       " 'C:/Users/Shiwani/Desktop/Week 6/2019-Oct.csv.gz\\\\52.part',\n",
       " 'C:/Users/Shiwani/Desktop/Week 6/2019-Oct.csv.gz\\\\53.part',\n",
       " 'C:/Users/Shiwani/Desktop/Week 6/2019-Oct.csv.gz\\\\54.part',\n",
       " 'C:/Users/Shiwani/Desktop/Week 6/2019-Oct.csv.gz\\\\55.part',\n",
       " 'C:/Users/Shiwani/Desktop/Week 6/2019-Oct.csv.gz\\\\56.part',\n",
       " 'C:/Users/Shiwani/Desktop/Week 6/2019-Oct.csv.gz\\\\57.part',\n",
       " 'C:/Users/Shiwani/Desktop/Week 6/2019-Oct.csv.gz\\\\58.part',\n",
       " 'C:/Users/Shiwani/Desktop/Week 6/2019-Oct.csv.gz\\\\59.part',\n",
       " 'C:/Users/Shiwani/Desktop/Week 6/2019-Oct.csv.gz\\\\60.part',\n",
       " 'C:/Users/Shiwani/Desktop/Week 6/2019-Oct.csv.gz\\\\61.part',\n",
       " 'C:/Users/Shiwani/Desktop/Week 6/2019-Oct.csv.gz\\\\62.part',\n",
       " 'C:/Users/Shiwani/Desktop/Week 6/2019-Oct.csv.gz\\\\63.part',\n",
       " 'C:/Users/Shiwani/Desktop/Week 6/2019-Oct.csv.gz\\\\64.part',\n",
       " 'C:/Users/Shiwani/Desktop/Week 6/2019-Oct.csv.gz\\\\65.part',\n",
       " 'C:/Users/Shiwani/Desktop/Week 6/2019-Oct.csv.gz\\\\66.part',\n",
       " 'C:/Users/Shiwani/Desktop/Week 6/2019-Oct.csv.gz\\\\67.part',\n",
       " 'C:/Users/Shiwani/Desktop/Week 6/2019-Oct.csv.gz\\\\68.part',\n",
       " 'C:/Users/Shiwani/Desktop/Week 6/2019-Oct.csv.gz\\\\69.part',\n",
       " 'C:/Users/Shiwani/Desktop/Week 6/2019-Oct.csv.gz\\\\70.part',\n",
       " 'C:/Users/Shiwani/Desktop/Week 6/2019-Oct.csv.gz\\\\71.part',\n",
       " 'C:/Users/Shiwani/Desktop/Week 6/2019-Oct.csv.gz\\\\72.part',\n",
       " 'C:/Users/Shiwani/Desktop/Week 6/2019-Oct.csv.gz\\\\73.part',\n",
       " 'C:/Users/Shiwani/Desktop/Week 6/2019-Oct.csv.gz\\\\74.part',\n",
       " 'C:/Users/Shiwani/Desktop/Week 6/2019-Oct.csv.gz\\\\75.part',\n",
       " 'C:/Users/Shiwani/Desktop/Week 6/2019-Oct.csv.gz\\\\76.part',\n",
       " 'C:/Users/Shiwani/Desktop/Week 6/2019-Oct.csv.gz\\\\77.part',\n",
       " 'C:/Users/Shiwani/Desktop/Week 6/2019-Oct.csv.gz\\\\78.part',\n",
       " 'C:/Users/Shiwani/Desktop/Week 6/2019-Oct.csv.gz\\\\79.part',\n",
       " 'C:/Users/Shiwani/Desktop/Week 6/2019-Oct.csv.gz\\\\80.part',\n",
       " 'C:/Users/Shiwani/Desktop/Week 6/2019-Oct.csv.gz\\\\81.part',\n",
       " 'C:/Users/Shiwani/Desktop/Week 6/2019-Oct.csv.gz\\\\82.part',\n",
       " 'C:/Users/Shiwani/Desktop/Week 6/2019-Oct.csv.gz\\\\83.part',\n",
       " 'C:/Users/Shiwani/Desktop/Week 6/2019-Oct.csv.gz\\\\84.part',\n",
       " 'C:/Users/Shiwani/Desktop/Week 6/2019-Oct.csv.gz\\\\85.part',\n",
       " 'C:/Users/Shiwani/Desktop/Week 6/2019-Oct.csv.gz\\\\86.part',\n",
       " 'C:/Users/Shiwani/Desktop/Week 6/2019-Oct.csv.gz\\\\87.part',\n",
       " 'C:/Users/Shiwani/Desktop/Week 6/2019-Oct.csv.gz\\\\88.part']"
      ]
     },
     "execution_count": 24,
     "metadata": {},
     "output_type": "execute_result"
    }
   ],
   "source": [
    "import datetime\n",
    "import csv\n",
    "import gzip\n",
    "\n",
    "from dask import dataframe as dd\n",
    "df = dd.read_csv(\"2019-Oct.csv\",delimiter=',')\n",
    "\n",
    "# Write csv in gz format in pipe separated text file (|)\n",
    "df.to_csv('2019-Oct.csv.gz',\n",
    "          sep='|',\n",
    "          header=True,\n",
    "          index=False,\n",
    "          quoting=csv.QUOTE_ALL,\n",
    "          compression='gzip',\n",
    "          quotechar='\"',\n",
    "          doublequote=True,\n",
    "          line_terminator='\\n')"
   ]
  },
  {
   "cell_type": "code",
   "execution_count": 25,
   "metadata": {},
   "outputs": [
    {
     "data": {
      "text/plain": [
       "32768"
      ]
     },
     "execution_count": 25,
     "metadata": {},
     "output_type": "execute_result"
    }
   ],
   "source": [
    "#size of the gz format folder in bytes\n",
    "os.path.getsize('2019-Oct.csv.gz')"
   ]
  },
  {
   "cell_type": "code",
   "execution_count": 26,
   "metadata": {},
   "outputs": [
    {
     "name": "stdout",
     "output_type": "stream",
     "text": [
      "<class 'dask.dataframe.core.DataFrame'>\n",
      "Columns: 9 entries, event_time to user_session\n",
      "dtypes: object(5), float64(1), int64(3)"
     ]
    }
   ],
   "source": [
    "df.info()"
   ]
  },
  {
   "cell_type": "code",
   "execution_count": 27,
   "metadata": {},
   "outputs": [
    {
     "data": {
      "text/plain": [
       "Index(['event_time', 'event_type', 'product_id', 'category_id',\n",
       "       'category_code', 'brand', 'price', 'user_id', 'user_session'],\n",
       "      dtype='object')"
      ]
     },
     "execution_count": 27,
     "metadata": {},
     "output_type": "execute_result"
    }
   ],
   "source": [
    "data=df.columns\n",
    "data"
   ]
  },
  {
   "cell_type": "code",
   "execution_count": 28,
   "metadata": {},
   "outputs": [
    {
     "data": {
      "text/plain": [
       "9"
      ]
     },
     "execution_count": 28,
     "metadata": {},
     "output_type": "execute_result"
    }
   ],
   "source": [
    "#no of Columns\n",
    "len(df.columns)"
   ]
  },
  {
   "cell_type": "code",
   "execution_count": 29,
   "metadata": {},
   "outputs": [
    {
     "data": {
      "text/plain": [
       "42448764"
      ]
     },
     "execution_count": 29,
     "metadata": {},
     "output_type": "execute_result"
    }
   ],
   "source": [
    "#no of Rows\n",
    "len(df.index)"
   ]
  }
 ],
 "metadata": {
  "kernelspec": {
   "display_name": "Python 3",
   "language": "python",
   "name": "python3"
  },
  "language_info": {
   "codemirror_mode": {
    "name": "ipython",
    "version": 3
   },
   "file_extension": ".py",
   "mimetype": "text/x-python",
   "name": "python",
   "nbconvert_exporter": "python",
   "pygments_lexer": "ipython3",
   "version": "3.8.5"
  }
 },
 "nbformat": 4,
 "nbformat_minor": 4
}
